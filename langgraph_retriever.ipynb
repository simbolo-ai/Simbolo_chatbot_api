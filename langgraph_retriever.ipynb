{
 "cells": [
  {
   "cell_type": "code",
   "execution_count": 1,
   "metadata": {},
   "outputs": [
    {
     "name": "stdout",
     "output_type": "stream",
     "text": [
      "Requirement already satisfied: langgraph in d:\\anaconda3\\envs\\chatbot\\lib\\site-packages (0.3.31)\n",
      "Requirement already satisfied: duckduckgo-search in d:\\anaconda3\\envs\\chatbot\\lib\\site-packages (8.0.1)\n",
      "Requirement already satisfied: langchain-core<0.4,>=0.1 in d:\\anaconda3\\envs\\chatbot\\lib\\site-packages (from langgraph) (0.3.54)\n",
      "Requirement already satisfied: langgraph-checkpoint<3.0.0,>=2.0.10 in d:\\anaconda3\\envs\\chatbot\\lib\\site-packages (from langgraph) (2.0.24)\n",
      "Requirement already satisfied: langgraph-prebuilt<0.2,>=0.1.8 in d:\\anaconda3\\envs\\chatbot\\lib\\site-packages (from langgraph) (0.1.8)\n",
      "Requirement already satisfied: langgraph-sdk<0.2.0,>=0.1.42 in d:\\anaconda3\\envs\\chatbot\\lib\\site-packages (from langgraph) (0.1.61)\n",
      "Requirement already satisfied: xxhash<4.0.0,>=3.5.0 in d:\\anaconda3\\envs\\chatbot\\lib\\site-packages (from langgraph) (3.5.0)\n",
      "Requirement already satisfied: click>=8.1.8 in d:\\anaconda3\\envs\\chatbot\\lib\\site-packages (from duckduckgo-search) (8.1.8)\n",
      "Requirement already satisfied: primp>=0.15.0 in d:\\anaconda3\\envs\\chatbot\\lib\\site-packages (from duckduckgo-search) (0.15.0)\n",
      "Requirement already satisfied: lxml>=5.3.0 in d:\\anaconda3\\envs\\chatbot\\lib\\site-packages (from duckduckgo-search) (5.3.2)\n",
      "Requirement already satisfied: colorama in c:\\users\\asus\\appdata\\roaming\\python\\python310\\site-packages (from click>=8.1.8->duckduckgo-search) (0.4.6)\n",
      "Requirement already satisfied: langsmith<0.4,>=0.1.125 in d:\\anaconda3\\envs\\chatbot\\lib\\site-packages (from langchain-core<0.4,>=0.1->langgraph) (0.3.32)\n",
      "Requirement already satisfied: tenacity!=8.4.0,<10.0.0,>=8.1.0 in d:\\anaconda3\\envs\\chatbot\\lib\\site-packages (from langchain-core<0.4,>=0.1->langgraph) (9.1.2)\n",
      "Requirement already satisfied: jsonpatch<2.0,>=1.33 in d:\\anaconda3\\envs\\chatbot\\lib\\site-packages (from langchain-core<0.4,>=0.1->langgraph) (1.33)\n",
      "Requirement already satisfied: PyYAML>=5.3 in d:\\anaconda3\\envs\\chatbot\\lib\\site-packages (from langchain-core<0.4,>=0.1->langgraph) (6.0.2)\n",
      "Requirement already satisfied: packaging<25,>=23.2 in c:\\users\\asus\\appdata\\roaming\\python\\python310\\site-packages (from langchain-core<0.4,>=0.1->langgraph) (24.0)\n",
      "Requirement already satisfied: typing-extensions>=4.7 in d:\\anaconda3\\envs\\chatbot\\lib\\site-packages (from langchain-core<0.4,>=0.1->langgraph) (4.13.2)\n",
      "Requirement already satisfied: pydantic<3.0.0,>=2.5.2 in d:\\anaconda3\\envs\\chatbot\\lib\\site-packages (from langchain-core<0.4,>=0.1->langgraph) (2.11.3)\n",
      "Requirement already satisfied: ormsgpack<2.0.0,>=1.8.0 in d:\\anaconda3\\envs\\chatbot\\lib\\site-packages (from langgraph-checkpoint<3.0.0,>=2.0.10->langgraph) (1.9.1)\n",
      "Requirement already satisfied: httpx>=0.25.2 in d:\\anaconda3\\envs\\chatbot\\lib\\site-packages (from langgraph-sdk<0.2.0,>=0.1.42->langgraph) (0.28.1)\n",
      "Requirement already satisfied: orjson>=3.10.1 in d:\\anaconda3\\envs\\chatbot\\lib\\site-packages (from langgraph-sdk<0.2.0,>=0.1.42->langgraph) (3.10.16)\n",
      "Requirement already satisfied: anyio in d:\\anaconda3\\envs\\chatbot\\lib\\site-packages (from httpx>=0.25.2->langgraph-sdk<0.2.0,>=0.1.42->langgraph) (4.9.0)\n",
      "Requirement already satisfied: certifi in d:\\anaconda3\\envs\\chatbot\\lib\\site-packages (from httpx>=0.25.2->langgraph-sdk<0.2.0,>=0.1.42->langgraph) (2025.1.31)\n",
      "Requirement already satisfied: httpcore==1.* in d:\\anaconda3\\envs\\chatbot\\lib\\site-packages (from httpx>=0.25.2->langgraph-sdk<0.2.0,>=0.1.42->langgraph) (1.0.8)\n",
      "Requirement already satisfied: idna in d:\\anaconda3\\envs\\chatbot\\lib\\site-packages (from httpx>=0.25.2->langgraph-sdk<0.2.0,>=0.1.42->langgraph) (3.10)\n",
      "Requirement already satisfied: h11<0.15,>=0.13 in d:\\anaconda3\\envs\\chatbot\\lib\\site-packages (from httpcore==1.*->httpx>=0.25.2->langgraph-sdk<0.2.0,>=0.1.42->langgraph) (0.14.0)\n",
      "Requirement already satisfied: jsonpointer>=1.9 in d:\\anaconda3\\envs\\chatbot\\lib\\site-packages (from jsonpatch<2.0,>=1.33->langchain-core<0.4,>=0.1->langgraph) (3.0.0)\n",
      "Requirement already satisfied: requests<3,>=2 in d:\\anaconda3\\envs\\chatbot\\lib\\site-packages (from langsmith<0.4,>=0.1.125->langchain-core<0.4,>=0.1->langgraph) (2.32.3)\n",
      "Requirement already satisfied: requests-toolbelt<2.0.0,>=1.0.0 in d:\\anaconda3\\envs\\chatbot\\lib\\site-packages (from langsmith<0.4,>=0.1.125->langchain-core<0.4,>=0.1->langgraph) (1.0.0)\n",
      "Requirement already satisfied: zstandard<0.24.0,>=0.23.0 in d:\\anaconda3\\envs\\chatbot\\lib\\site-packages (from langsmith<0.4,>=0.1.125->langchain-core<0.4,>=0.1->langgraph) (0.23.0)\n",
      "Requirement already satisfied: annotated-types>=0.6.0 in d:\\anaconda3\\envs\\chatbot\\lib\\site-packages (from pydantic<3.0.0,>=2.5.2->langchain-core<0.4,>=0.1->langgraph) (0.7.0)\n",
      "Requirement already satisfied: pydantic-core==2.33.1 in d:\\anaconda3\\envs\\chatbot\\lib\\site-packages (from pydantic<3.0.0,>=2.5.2->langchain-core<0.4,>=0.1->langgraph) (2.33.1)\n",
      "Requirement already satisfied: typing-inspection>=0.4.0 in d:\\anaconda3\\envs\\chatbot\\lib\\site-packages (from pydantic<3.0.0,>=2.5.2->langchain-core<0.4,>=0.1->langgraph) (0.4.0)\n",
      "Requirement already satisfied: charset-normalizer<4,>=2 in d:\\anaconda3\\envs\\chatbot\\lib\\site-packages (from requests<3,>=2->langsmith<0.4,>=0.1.125->langchain-core<0.4,>=0.1->langgraph) (3.4.1)\n",
      "Requirement already satisfied: urllib3<3,>=1.21.1 in d:\\anaconda3\\envs\\chatbot\\lib\\site-packages (from requests<3,>=2->langsmith<0.4,>=0.1.125->langchain-core<0.4,>=0.1->langgraph) (2.4.0)\n",
      "Requirement already satisfied: exceptiongroup>=1.0.2 in c:\\users\\asus\\appdata\\roaming\\python\\python310\\site-packages (from anyio->httpx>=0.25.2->langgraph-sdk<0.2.0,>=0.1.42->langgraph) (1.2.0)\n",
      "Requirement already satisfied: sniffio>=1.1 in d:\\anaconda3\\envs\\chatbot\\lib\\site-packages (from anyio->httpx>=0.25.2->langgraph-sdk<0.2.0,>=0.1.42->langgraph) (1.3.1)\n",
      "Note: you may need to restart the kernel to use updated packages.\n"
     ]
    }
   ],
   "source": [
    "pip install langgraph duckduckgo-search"
   ]
  },
  {
   "cell_type": "code",
   "execution_count": 2,
   "metadata": {},
   "outputs": [
    {
     "name": "stderr",
     "output_type": "stream",
     "text": [
      "C:\\Users\\ASUS\\AppData\\Roaming\\Python\\Python310\\site-packages\\tqdm\\auto.py:22: TqdmWarning: IProgress not found. Please update jupyter and ipywidgets. See https://ipywidgets.readthedocs.io/en/stable/user_install.html\n",
      "  from .autonotebook import tqdm as notebook_tqdm\n"
     ]
    },
    {
     "name": "stdout",
     "output_type": "stream",
     "text": [
      "Questions: What is Simbolo?\n",
      "Answers: Símbolo is a training school which provides high-quality education in science and technology by offering courses in Artificial Intelligence, Data Science, Web Development, Mobile Development, and Information Technology. These courses combine theoretical knowledge with practical, project-based learning.\n",
      "Questions: Where can we contact the Simbolo?\n",
      "Answers: You can contact Simbolo in the following ways:\n",
      "Email: simboloit@gmail.com\n",
      "Phone: +959951716847\n",
      "Messenger: https://m.me/Simboloit\n",
      "Questions: What does Simbolo mean?\n",
      "Answers: Símbolo is pronounced in Spanish which means symbol.\n",
      "Questions: What is the location of Simbolo?\n",
      "Answers: Simbolo is located at 91H*42H, Mahar Aung Myay, Mandalay. Let me know if you need directions!\n"
     ]
    }
   ],
   "source": [
    "from langchain.vectorstores import FAISS  \n",
    "from langchain_huggingface import HuggingFaceEmbeddings\n",
    "\n",
    "db = FAISS.load_local(\"faiss_index\", embeddings=HuggingFaceEmbeddings(model_name=\"sentence-transformers/all-MiniLM-L6-v2\"),allow_dangerous_deserialization=True)\n",
    "retriever = db.as_retriever()\n",
    "results = retriever.invoke(\"What is Simbolo\")\n",
    "print(\"\\n\".join([doc.page_content for doc in results]))"
   ]
  },
  {
   "cell_type": "code",
   "execution_count": 48,
   "metadata": {},
   "outputs": [],
   "source": [
    "from langchain_core.documents import Document\n",
    "from typing_extensions import List, TypedDict\n",
    "\n",
    "\n",
    "class State(TypedDict):\n",
    "    question: str\n",
    "    context: List[Document]\n",
    "    answer: str"
   ]
  },
  {
   "cell_type": "code",
   "execution_count": 106,
   "metadata": {},
   "outputs": [],
   "source": [
    "from langchain_core.prompts import ChatPromptTemplate\n",
    "\n",
    "system_prompt = (\n",
    "    \"You are a PDF Reader Assistant.\"\n",
    "    \"Provide concise and professional responses.\"\n",
    "    \"If the user asks a part of PDF, give clear and helpful information about it.\"\n",
    "    \"\\n\\n\"\n",
    "    \"{context}\"\n",
    ")\n",
    "prompt = ChatPromptTemplate(\n",
    "    [\n",
    "        (\"system\",system_prompt),\n",
    "        (\"human\", \"{question}\"),\n",
    "    ]\n",
    "    )"
   ]
  },
  {
   "cell_type": "code",
   "execution_count": 107,
   "metadata": {},
   "outputs": [],
   "source": [
    "from langchain_groq import ChatGroq\n",
    "\n",
    "model = ChatGroq(model_name='llama-3.3-70b-versatile')"
   ]
  },
  {
   "cell_type": "code",
   "execution_count": 108,
   "metadata": {},
   "outputs": [],
   "source": [
    "def retrieve(state: State):\n",
    "    retrieved_docs = db.similarity_search(state[\"question\"])\n",
    "    return {\"context\": retrieved_docs}\n",
    "\n",
    "\n",
    "def generate(state: State):\n",
    "    docs_content = \"\\n\\n\".join(doc.page_content for doc in state[\"context\"])\n",
    "    messages = prompt.invoke({\"question\": state[\"question\"], \"context\": docs_content})\n",
    "    response = model.invoke(messages)\n",
    "    return {\"answer\": response.content}"
   ]
  },
  {
   "cell_type": "code",
   "execution_count": 109,
   "metadata": {},
   "outputs": [],
   "source": [
    "from langgraph.graph import START, StateGraph\n",
    "\n",
    "graph_builder = StateGraph(State).add_sequence([retrieve, generate])\n",
    "graph_builder.add_edge(START, \"retrieve\")\n",
    "graph = graph_builder.compile()"
   ]
  },
  {
   "cell_type": "code",
   "execution_count": 110,
   "metadata": {},
   "outputs": [
    {
     "data": {
      "image/png": "[encoded data removed]",
      "text/plain": [
       "<IPython.core.display.Image object>"
      ]
     },
     "metadata": {},
     "output_type": "display_data"
    }
   ],
   "source": [
    "from IPython.display import Image, display\n",
    "\n",
    "display(Image(graph.get_graph().draw_mermaid_png()))"
   ]
  },
  {
   "cell_type": "code",
   "execution_count": 113,
   "metadata": {},
   "outputs": [
    {
     "data": {
      "text/plain": [
       "{'question': 'what is simbolo',\n",
       " 'context': [Document(id='1acf6f90-6172-4041-a86d-e7002b8e41a5', metadata={'source': 'Simbolo Information - Sheet1.csv', 'row': 0}, page_content='Questions: What is Simbolo?\\nAnswers: Símbolo is a training school which provides high-quality education in science and technology by offering courses in Artificial Intelligence, Data Science, Web Development, Mobile Development, and Information Technology. These courses combine theoretical knowledge with practical, project-based learning.'),\n",
       "  Document(id='992861b5-dbce-4d13-b10c-e617f5116c64', metadata={'source': 'Simbolo Information - Sheet1.csv', 'row': 15}, page_content='Questions: Where can we contact the Simbolo?\\nAnswers: You can contact Simbolo in the following ways:\\nEmail: simboloit@gmail.com\\nPhone: +959951716847\\nMessenger: https://m.me/Simboloit'),\n",
       "  Document(id='8aeeba9d-2f08-4182-acde-cafd5c7a62d1', metadata={'source': 'Simbolo Information - Sheet1.csv', 'row': 2}, page_content='Questions: What does Simbolo mean?\\nAnswers: Símbolo is pronounced in Spanish which means symbol.'),\n",
       "  Document(id='93d8db19-4aca-4f34-a8f1-4839328e4ab2', metadata={'source': 'Simbolo Information - Sheet1.csv', 'row': 14}, page_content='Questions: What is the location of Simbolo?\\nAnswers: Simbolo is located at 91H*42H, Mahar Aung Myay, Mandalay. Let me know if you need directions!')],\n",
       " 'answer': 'Símbolo is a training school that provides high-quality education in science and technology, offering courses in Artificial Intelligence, Data Science, Web Development, Mobile Development, and Information Technology. These courses combine theoretical knowledge with practical, project-based learning.'}"
      ]
     },
     "execution_count": 113,
     "metadata": {},
     "output_type": "execute_result"
    }
   ],
   "source": [
    "result = graph.invoke({\"question\": \"what is simbolo\"})\n",
    "result"
   ]
  },
  {
   "cell_type": "code",
   "execution_count": 114,
   "metadata": {},
   "outputs": [
    {
     "data": {
      "text/plain": [
       "'Símbolo is a training school that provides high-quality education in science and technology, offering courses in Artificial Intelligence, Data Science, Web Development, Mobile Development, and Information Technology. These courses combine theoretical knowledge with practical, project-based learning.'"
      ]
     },
     "execution_count": 114,
     "metadata": {},
     "output_type": "execute_result"
    }
   ],
   "source": [
    "result['answer']"
   ]
  },
  {
   "cell_type": "code",
   "execution_count": 90,
   "metadata": {},
   "outputs": [
    {
     "data": {
      "text/plain": [
       "\"It seems like you didn't provide any input or question. Please provide the question or topic related to Simbolo that you would like to know about, and I'll be happy to assist you.\""
      ]
     },
     "execution_count": 90,
     "metadata": {},
     "output_type": "execute_result"
    }
   ],
   "source": [
    "\"You've provided the information about Simbolo. To confirm, the key points are:\\n\\n1. **What is Simbolo?**: A training school providing high-quality education in science and technology with courses like AI, Data Science, and IT.\\n2. **Benefits for students**: Exclusive benefits include Membership Card, Jump Start Internship Program, Letter of Recommendation, Competition Mentorship, and Pocket Money Program.\\n3. **Contact information**: Email (simboloit@gmail.com), Phone (+959951716847), and Messenger (https://m.me/Simboloit).\\n4. **One on One classes**: Available for subjects like Python, Introduction to AI, Math Fundamentals, UX/UI, and more.\\n\\nIs there anything else you'd like to know or discuss about Simbolo?\"\n"
   ]
  },
  {
   "cell_type": "code",
   "execution_count": null,
   "metadata": {},
   "outputs": [],
   "source": []
  }
 ],
 "metadata": {
  "kernelspec": {
   "display_name": "chatbot",
   "language": "python",
   "name": "python3"
  },
  "language_info": {
   "codemirror_mode": {
    "name": "ipython",
    "version": 3
   },
   "file_extension": ".py",
   "mimetype": "text/x-python",
   "name": "python",
   "nbconvert_exporter": "python",
   "pygments_lexer": "ipython3",
   "version": "3.10.12"
  }
 },
 "nbformat": 4,
 "nbformat_minor": 2
}
