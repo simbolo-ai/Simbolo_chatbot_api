{
 "cells": [
  {
   "cell_type": "code",
   "execution_count": 19,
   "metadata": {},
   "outputs": [
    {
     "name": "stdout",
     "output_type": "stream",
     "text": [
      "Requirement already satisfied: langchain_community in d:\\anaconda3\\envs\\chatbot\\lib\\site-packages (0.3.21)\n",
      "Requirement already satisfied: langchain_huggingface in d:\\anaconda3\\envs\\chatbot\\lib\\site-packages (0.1.2)\n",
      "Collecting faiss-cpu\n",
      "  Downloading faiss_cpu-1.10.0-cp310-cp310-win_amd64.whl.metadata (4.5 kB)\n",
      "Requirement already satisfied: langchain-core<1.0.0,>=0.3.51 in d:\\anaconda3\\envs\\chatbot\\lib\\site-packages (from langchain_community) (0.3.54)\n",
      "Requirement already satisfied: langchain<1.0.0,>=0.3.23 in d:\\anaconda3\\envs\\chatbot\\lib\\site-packages (from langchain_community) (0.3.23)\n",
      "Requirement already satisfied: SQLAlchemy<3,>=1.4 in d:\\anaconda3\\envs\\chatbot\\lib\\site-packages (from langchain_community) (2.0.40)\n",
      "Requirement already satisfied: requests<3,>=2 in d:\\anaconda3\\envs\\chatbot\\lib\\site-packages (from langchain_community) (2.32.3)\n",
      "Requirement already satisfied: PyYAML>=5.3 in d:\\anaconda3\\envs\\chatbot\\lib\\site-packages (from langchain_community) (6.0.2)\n",
      "Requirement already satisfied: aiohttp<4.0.0,>=3.8.3 in d:\\anaconda3\\envs\\chatbot\\lib\\site-packages (from langchain_community) (3.11.16)\n",
      "Requirement already satisfied: tenacity!=8.4.0,<10,>=8.1.0 in d:\\anaconda3\\envs\\chatbot\\lib\\site-packages (from langchain_community) (9.1.2)\n",
      "Requirement already satisfied: dataclasses-json<0.7,>=0.5.7 in d:\\anaconda3\\envs\\chatbot\\lib\\site-packages (from langchain_community) (0.6.7)\n",
      "Requirement already satisfied: pydantic-settings<3.0.0,>=2.4.0 in d:\\anaconda3\\envs\\chatbot\\lib\\site-packages (from langchain_community) (2.9.1)\n",
      "Requirement already satisfied: langsmith<0.4,>=0.1.125 in d:\\anaconda3\\envs\\chatbot\\lib\\site-packages (from langchain_community) (0.3.32)\n",
      "Requirement already satisfied: httpx-sse<1.0.0,>=0.4.0 in d:\\anaconda3\\envs\\chatbot\\lib\\site-packages (from langchain_community) (0.4.0)\n",
      "Requirement already satisfied: numpy<3,>=1.26.2 in d:\\anaconda3\\envs\\chatbot\\lib\\site-packages (from langchain_community) (2.2.4)\n",
      "Requirement already satisfied: huggingface-hub>=0.23.0 in d:\\anaconda3\\envs\\chatbot\\lib\\site-packages (from langchain_huggingface) (0.30.2)\n",
      "Requirement already satisfied: sentence-transformers>=2.6.0 in d:\\anaconda3\\envs\\chatbot\\lib\\site-packages (from langchain_huggingface) (4.1.0)\n",
      "Requirement already satisfied: tokenizers>=0.19.1 in d:\\anaconda3\\envs\\chatbot\\lib\\site-packages (from langchain_huggingface) (0.21.1)\n",
      "Requirement already satisfied: transformers>=4.39.0 in d:\\anaconda3\\envs\\chatbot\\lib\\site-packages (from langchain_huggingface) (4.51.3)\n",
      "Requirement already satisfied: packaging in c:\\users\\asus\\appdata\\roaming\\python\\python310\\site-packages (from faiss-cpu) (24.0)\n",
      "Requirement already satisfied: aiohappyeyeballs>=2.3.0 in d:\\anaconda3\\envs\\chatbot\\lib\\site-packages (from aiohttp<4.0.0,>=3.8.3->langchain_community) (2.6.1)\n",
      "Requirement already satisfied: aiosignal>=1.1.2 in d:\\anaconda3\\envs\\chatbot\\lib\\site-packages (from aiohttp<4.0.0,>=3.8.3->langchain_community) (1.3.2)\n",
      "Requirement already satisfied: async-timeout<6.0,>=4.0 in d:\\anaconda3\\envs\\chatbot\\lib\\site-packages (from aiohttp<4.0.0,>=3.8.3->langchain_community) (4.0.3)\n",
      "Requirement already satisfied: attrs>=17.3.0 in d:\\anaconda3\\envs\\chatbot\\lib\\site-packages (from aiohttp<4.0.0,>=3.8.3->langchain_community) (25.3.0)\n",
      "Requirement already satisfied: frozenlist>=1.1.1 in d:\\anaconda3\\envs\\chatbot\\lib\\site-packages (from aiohttp<4.0.0,>=3.8.3->langchain_community) (1.6.0)\n",
      "Requirement already satisfied: multidict<7.0,>=4.5 in d:\\anaconda3\\envs\\chatbot\\lib\\site-packages (from aiohttp<4.0.0,>=3.8.3->langchain_community) (6.4.3)\n",
      "Requirement already satisfied: propcache>=0.2.0 in d:\\anaconda3\\envs\\chatbot\\lib\\site-packages (from aiohttp<4.0.0,>=3.8.3->langchain_community) (0.3.1)\n",
      "Requirement already satisfied: yarl<2.0,>=1.17.0 in d:\\anaconda3\\envs\\chatbot\\lib\\site-packages (from aiohttp<4.0.0,>=3.8.3->langchain_community) (1.20.0)\n",
      "Requirement already satisfied: marshmallow<4.0.0,>=3.18.0 in d:\\anaconda3\\envs\\chatbot\\lib\\site-packages (from dataclasses-json<0.7,>=0.5.7->langchain_community) (3.26.1)\n",
      "Requirement already satisfied: typing-inspect<1,>=0.4.0 in d:\\anaconda3\\envs\\chatbot\\lib\\site-packages (from dataclasses-json<0.7,>=0.5.7->langchain_community) (0.9.0)\n",
      "Requirement already satisfied: filelock in d:\\anaconda3\\envs\\chatbot\\lib\\site-packages (from huggingface-hub>=0.23.0->langchain_huggingface) (3.18.0)\n",
      "Requirement already satisfied: fsspec>=2023.5.0 in d:\\anaconda3\\envs\\chatbot\\lib\\site-packages (from huggingface-hub>=0.23.0->langchain_huggingface) (2025.3.2)\n",
      "Requirement already satisfied: tqdm>=4.42.1 in c:\\users\\asus\\appdata\\roaming\\python\\python310\\site-packages (from huggingface-hub>=0.23.0->langchain_huggingface) (4.64.0)\n",
      "Requirement already satisfied: typing-extensions>=3.7.4.3 in d:\\anaconda3\\envs\\chatbot\\lib\\site-packages (from huggingface-hub>=0.23.0->langchain_huggingface) (4.13.2)\n",
      "Requirement already satisfied: langchain-text-splitters<1.0.0,>=0.3.8 in d:\\anaconda3\\envs\\chatbot\\lib\\site-packages (from langchain<1.0.0,>=0.3.23->langchain_community) (0.3.8)\n",
      "Requirement already satisfied: pydantic<3.0.0,>=2.7.4 in d:\\anaconda3\\envs\\chatbot\\lib\\site-packages (from langchain<1.0.0,>=0.3.23->langchain_community) (2.11.3)\n",
      "Requirement already satisfied: jsonpatch<2.0,>=1.33 in d:\\anaconda3\\envs\\chatbot\\lib\\site-packages (from langchain-core<1.0.0,>=0.3.51->langchain_community) (1.33)\n",
      "Requirement already satisfied: httpx<1,>=0.23.0 in d:\\anaconda3\\envs\\chatbot\\lib\\site-packages (from langsmith<0.4,>=0.1.125->langchain_community) (0.28.1)\n",
      "Requirement already satisfied: orjson<4.0.0,>=3.9.14 in d:\\anaconda3\\envs\\chatbot\\lib\\site-packages (from langsmith<0.4,>=0.1.125->langchain_community) (3.10.16)\n",
      "Requirement already satisfied: requests-toolbelt<2.0.0,>=1.0.0 in d:\\anaconda3\\envs\\chatbot\\lib\\site-packages (from langsmith<0.4,>=0.1.125->langchain_community) (1.0.0)\n",
      "Requirement already satisfied: zstandard<0.24.0,>=0.23.0 in d:\\anaconda3\\envs\\chatbot\\lib\\site-packages (from langsmith<0.4,>=0.1.125->langchain_community) (0.23.0)\n",
      "Requirement already satisfied: python-dotenv>=0.21.0 in d:\\anaconda3\\envs\\chatbot\\lib\\site-packages (from pydantic-settings<3.0.0,>=2.4.0->langchain_community) (1.1.0)\n",
      "Requirement already satisfied: typing-inspection>=0.4.0 in d:\\anaconda3\\envs\\chatbot\\lib\\site-packages (from pydantic-settings<3.0.0,>=2.4.0->langchain_community) (0.4.0)\n",
      "Requirement already satisfied: charset-normalizer<4,>=2 in d:\\anaconda3\\envs\\chatbot\\lib\\site-packages (from requests<3,>=2->langchain_community) (3.4.1)\n",
      "Requirement already satisfied: idna<4,>=2.5 in d:\\anaconda3\\envs\\chatbot\\lib\\site-packages (from requests<3,>=2->langchain_community) (3.10)\n",
      "Requirement already satisfied: urllib3<3,>=1.21.1 in d:\\anaconda3\\envs\\chatbot\\lib\\site-packages (from requests<3,>=2->langchain_community) (2.4.0)\n",
      "Requirement already satisfied: certifi>=2017.4.17 in d:\\anaconda3\\envs\\chatbot\\lib\\site-packages (from requests<3,>=2->langchain_community) (2025.1.31)\n",
      "Requirement already satisfied: torch>=1.11.0 in d:\\anaconda3\\envs\\chatbot\\lib\\site-packages (from sentence-transformers>=2.6.0->langchain_huggingface) (2.6.0)\n",
      "Requirement already satisfied: scikit-learn in d:\\anaconda3\\envs\\chatbot\\lib\\site-packages (from sentence-transformers>=2.6.0->langchain_huggingface) (1.6.1)\n",
      "Requirement already satisfied: scipy in d:\\anaconda3\\envs\\chatbot\\lib\\site-packages (from sentence-transformers>=2.6.0->langchain_huggingface) (1.15.2)\n",
      "Requirement already satisfied: Pillow in d:\\anaconda3\\envs\\chatbot\\lib\\site-packages (from sentence-transformers>=2.6.0->langchain_huggingface) (11.2.1)\n",
      "Requirement already satisfied: greenlet>=1 in d:\\anaconda3\\envs\\chatbot\\lib\\site-packages (from SQLAlchemy<3,>=1.4->langchain_community) (3.2.0)\n",
      "Requirement already satisfied: regex!=2019.12.17 in c:\\users\\asus\\appdata\\roaming\\python\\python310\\site-packages (from transformers>=4.39.0->langchain_huggingface) (2022.6.2)\n",
      "Requirement already satisfied: safetensors>=0.4.3 in d:\\anaconda3\\envs\\chatbot\\lib\\site-packages (from transformers>=4.39.0->langchain_huggingface) (0.5.3)\n",
      "Requirement already satisfied: anyio in d:\\anaconda3\\envs\\chatbot\\lib\\site-packages (from httpx<1,>=0.23.0->langsmith<0.4,>=0.1.125->langchain_community) (4.9.0)\n",
      "Requirement already satisfied: httpcore==1.* in d:\\anaconda3\\envs\\chatbot\\lib\\site-packages (from httpx<1,>=0.23.0->langsmith<0.4,>=0.1.125->langchain_community) (1.0.8)\n",
      "Requirement already satisfied: h11<0.15,>=0.13 in d:\\anaconda3\\envs\\chatbot\\lib\\site-packages (from httpcore==1.*->httpx<1,>=0.23.0->langsmith<0.4,>=0.1.125->langchain_community) (0.14.0)\n",
      "Requirement already satisfied: jsonpointer>=1.9 in d:\\anaconda3\\envs\\chatbot\\lib\\site-packages (from jsonpatch<2.0,>=1.33->langchain-core<1.0.0,>=0.3.51->langchain_community) (3.0.0)\n",
      "Requirement already satisfied: annotated-types>=0.6.0 in d:\\anaconda3\\envs\\chatbot\\lib\\site-packages (from pydantic<3.0.0,>=2.7.4->langchain<1.0.0,>=0.3.23->langchain_community) (0.7.0)\n",
      "Requirement already satisfied: pydantic-core==2.33.1 in d:\\anaconda3\\envs\\chatbot\\lib\\site-packages (from pydantic<3.0.0,>=2.7.4->langchain<1.0.0,>=0.3.23->langchain_community) (2.33.1)\n",
      "Requirement already satisfied: networkx in d:\\anaconda3\\envs\\chatbot\\lib\\site-packages (from torch>=1.11.0->sentence-transformers>=2.6.0->langchain_huggingface) (3.4.2)\n",
      "Requirement already satisfied: jinja2 in d:\\anaconda3\\envs\\chatbot\\lib\\site-packages (from torch>=1.11.0->sentence-transformers>=2.6.0->langchain_huggingface) (3.1.6)\n",
      "Requirement already satisfied: sympy==1.13.1 in d:\\anaconda3\\envs\\chatbot\\lib\\site-packages (from torch>=1.11.0->sentence-transformers>=2.6.0->langchain_huggingface) (1.13.1)\n",
      "Requirement already satisfied: mpmath<1.4,>=1.1.0 in d:\\anaconda3\\envs\\chatbot\\lib\\site-packages (from sympy==1.13.1->torch>=1.11.0->sentence-transformers>=2.6.0->langchain_huggingface) (1.3.0)\n",
      "Requirement already satisfied: colorama in c:\\users\\asus\\appdata\\roaming\\python\\python310\\site-packages (from tqdm>=4.42.1->huggingface-hub>=0.23.0->langchain_huggingface) (0.4.6)\n",
      "Requirement already satisfied: mypy-extensions>=0.3.0 in d:\\anaconda3\\envs\\chatbot\\lib\\site-packages (from typing-inspect<1,>=0.4.0->dataclasses-json<0.7,>=0.5.7->langchain_community) (1.0.0)\n",
      "Requirement already satisfied: joblib>=1.2.0 in d:\\anaconda3\\envs\\chatbot\\lib\\site-packages (from scikit-learn->sentence-transformers>=2.6.0->langchain_huggingface) (1.4.2)\n",
      "Requirement already satisfied: threadpoolctl>=3.1.0 in d:\\anaconda3\\envs\\chatbot\\lib\\site-packages (from scikit-learn->sentence-transformers>=2.6.0->langchain_huggingface) (3.6.0)\n",
      "Requirement already satisfied: exceptiongroup>=1.0.2 in c:\\users\\asus\\appdata\\roaming\\python\\python310\\site-packages (from anyio->httpx<1,>=0.23.0->langsmith<0.4,>=0.1.125->langchain_community) (1.2.0)\n",
      "Requirement already satisfied: sniffio>=1.1 in d:\\anaconda3\\envs\\chatbot\\lib\\site-packages (from anyio->httpx<1,>=0.23.0->langsmith<0.4,>=0.1.125->langchain_community) (1.3.1)\n",
      "Requirement already satisfied: MarkupSafe>=2.0 in d:\\anaconda3\\envs\\chatbot\\lib\\site-packages (from jinja2->torch>=1.11.0->sentence-transformers>=2.6.0->langchain_huggingface) (3.0.2)\n",
      "Downloading faiss_cpu-1.10.0-cp310-cp310-win_amd64.whl (13.7 MB)\n",
      "   ---------------------------------------- 0.0/13.7 MB ? eta -:--:--\n",
      "   -------- ------------------------------- 2.9/13.7 MB 24.0 MB/s eta 0:00:01\n",
      "   ------------ --------------------------- 4.2/13.7 MB 19.4 MB/s eta 0:00:01\n",
      "   --------------- ------------------------ 5.2/13.7 MB 9.7 MB/s eta 0:00:01\n",
      "   ------------------ --------------------- 6.3/13.7 MB 8.4 MB/s eta 0:00:01\n",
      "   -------------------- ------------------- 7.1/13.7 MB 7.0 MB/s eta 0:00:01\n",
      "   ---------------------- ----------------- 7.6/13.7 MB 6.7 MB/s eta 0:00:01\n",
      "   ------------------------- -------------- 8.7/13.7 MB 6.0 MB/s eta 0:00:01\n",
      "   --------------------------- ------------ 9.4/13.7 MB 5.9 MB/s eta 0:00:01\n",
      "   ----------------------------- ---------- 10.2/13.7 MB 5.4 MB/s eta 0:00:01\n",
      "   -------------------------------- ------- 11.3/13.7 MB 5.4 MB/s eta 0:00:01\n",
      "   ----------------------------------- ---- 12.1/13.7 MB 5.2 MB/s eta 0:00:01\n",
      "   ------------------------------------- -- 12.8/13.7 MB 5.2 MB/s eta 0:00:01\n",
      "   ---------------------------------------- 13.7/13.7 MB 5.1 MB/s eta 0:00:00\n",
      "Installing collected packages: faiss-cpu\n",
      "Successfully installed faiss-cpu-1.10.0\n"
     ]
    }
   ],
   "source": [
    "!pip install langchain_community langchain_huggingface faiss-cpu"
   ]
  },
  {
   "cell_type": "code",
   "execution_count": 11,
   "metadata": {},
   "outputs": [
    {
     "data": {
      "text/plain": [
       "[Document(metadata={'source': 'Simbolo Information - Sheet1.csv', 'row': 0}, page_content='Questions: What is Simbolo?\\nAnswers: Símbolo is a training school which provides high-quality education in science and technology by offering courses in Artificial Intelligence, Data Science, Web Development, Mobile Development, and Information Technology. These courses combine theoretical knowledge with practical, project-based learning.'),\n",
       " Document(metadata={'source': 'Simbolo Information - Sheet1.csv', 'row': 1}, page_content='Questions: When was Simbolo founded?\\nAnswers: Símbolo was founded in 6th May, 2021.'),\n",
       " Document(metadata={'source': 'Simbolo Information - Sheet1.csv', 'row': 2}, page_content='Questions: What does Simbolo mean?\\nAnswers: Símbolo is pronounced in Spanish which means symbol.'),\n",
       " Document(metadata={'source': 'Simbolo Information - Sheet1.csv', 'row': 3}, page_content='Questions: How many tracks are there as courses offered by Simbolo? What are those?\\nAnswers: Símbolo offers 4 tracks : Artificial Intelligence Track, Data Science Track, Web Development Track and Mobile Development Track. Plus other isolated IT classes'),\n",
       " Document(metadata={'source': 'Simbolo Information - Sheet1.csv', 'row': 4}, page_content='Questions: What courses are there in the Artificial Intelligence Track?\\nAnswers: Foundations of Python: A Step-by-Step Learning, Math Fundamentals: Behind the sense of AI and Data  Science, AI Foundations: From Theory to Practical Applications, Applied Machine Learning, Introduction to Computer Vision'),\n",
       " Document(metadata={'source': 'Simbolo Information - Sheet1.csv', 'row': 5}, page_content='Questions: What courses are available in the Data Science Track\\nAnswers: Foundations of Python: A Step-by-Step Learning, Math Fundamentals: Behind the sense of AI and Data  Science, Oracle Database Foundation, Unlock the Data Analytics Mystery, AI Foundations: From Theory to Practical Applications, Applied Machine Learning'),\n",
       " Document(metadata={'source': 'Simbolo Information - Sheet1.csv', 'row': 6}, page_content='Questions: What courses are in the Web Development Track?\\nAnswers: A UX/UI Essential Course, The Art of Web Design: Master HTML, CSS, Bootstrap and JavaScript, React JS Course (Frontend), Web Development with PHP (Backend)'),\n",
       " Document(metadata={'source': 'Simbolo Information - Sheet1.csv', 'row': 7}, page_content='Questions: What courses are in the Mobile Development Track?\\nAnswers: iOS Development Fundamentals'),\n",
       " Document(metadata={'source': 'Simbolo Information - Sheet1.csv', 'row': 8}, page_content='Questions: What are the isolated classes?\\nAnswers: Software Testing Fundamentals (Manual), Quantum Computing: The Theoretical Minimum, IT Project Management Fundamentals, Pathway to success: College Readiness'),\n",
       " Document(metadata={'source': 'Simbolo Information - Sheet1.csv', 'row': 9}, page_content='Questions: Can I attend a One on One class at Simbolo? Which One on One classes are there?\\nAnswers: One on one classes are available. Símbolo offers one on one class for these subjects: - Python\\n- Introduction to AI\\n- Math Fundamentals\\n- UX/UI\\n- Oracle Database Foundation\\n- Applied Machine Learning \\n- Data Science Foundation\\n- Web Development Foundation\\n- JavaScript \\n- React JS\\n- Software Testing Fundamental \\n- Data Analysis\\n- Mobile Development \\n- IT Project Management'),\n",
       " Document(metadata={'source': 'Simbolo Information - Sheet1.csv', 'row': 10}, page_content='Questions: How many students attended Símbolo?\\nAnswers: Over 1,900 students have attended Simbolo.'),\n",
       " Document(metadata={'source': 'Simbolo Information - Sheet1.csv', 'row': 11}, page_content='Questions: What are the benefits that only students of Simbolo can enjoy?\\nAnswers: Membership Card, Jump Start Internship Program, Letter of Recommendation, Competition Mentorship, Pocket Money Program for Symbols'),\n",
       " Document(metadata={'source': 'Simbolo Information - Sheet1.csv', 'row': 12}, page_content='Questions: What is Jump Start Program?\\nAnswers: The Jump Start Program is a program that provides Internship Experiences and Guidance to prepare you to start an AI career. The following services are included in the Jump Start Program: 1. Literature Reviews, Paper Reading, Labeling Guidelines 2. Git/Github and Useful Github Commands 3. Machine Learning Model Deployment with Docker and Flask API, AWS, Load Testing with Jmeter 4. Interview Preparation (Resume and Cover Letter), HR Interview, and Technical Interview 5. Basic Data Structure and Algorithm for Coding Interview 6. Individual Project'),\n",
       " Document(metadata={'source': 'Simbolo Information - Sheet1.csv', 'row': 13}, page_content='Questions: What do I need to do to get a Letter of Recommendation?\\nAnswers: The students who attended 3 classes and achieved certificates at Simbolo can request a \"Recommendation Letter\" to apply for scholarships and other programs.'),\n",
       " Document(metadata={'source': 'Simbolo Information - Sheet1.csv', 'row': 14}, page_content='Questions: What is the location of Simbolo?\\nAnswers: Simbolo is located at 91H*42H, Mahar Aung Myay, Mandalay. Let me know if you need directions!'),\n",
       " Document(metadata={'source': 'Simbolo Information - Sheet1.csv', 'row': 15}, page_content='Questions: Where can we contact the Simbolo?\\nAnswers: You can contact Simbolo in the following ways:\\nEmail: simboloit@gmail.com\\nPhone: +959951716847\\nMessenger: https://m.me/Simboloit'),\n",
       " Document(metadata={'source': 'Simbolo Information - Sheet1.csv', 'row': 16}, page_content='Questions: What topics are covered in an Introduction to Computer Vision course?\\nAnswers: Here is the course outline for Computer Vision:\\n- Introduction to Compute Vision\\n- Image Processing with Python\\n- Machine Learning with Python\\n- Deep Learning with Python'),\n",
       " Document(metadata={'source': 'Simbolo Information - Sheet1.csv', 'row': 17}, page_content='Questions: What is the course outline of Python?\\nAnswers: Here is the course outline of Python class:\\n- Introduction to Python Language\\n- Values and Variables\\n- Expressions and Arithmetic\\n- Conditional Execution\\n- Iteration Loops\\n- Function\\n- Libraries\\n- Data Structures\\n- File Handling\\n- Regular Expression\\n- Object Oriented Programming (OOP)'),\n",
       " Document(metadata={'source': 'Simbolo Information - Sheet1.csv', 'row': 18}, page_content='Questions: What is the course outline of AI Foundations: From Theory to Practical Applications?\\nAnswers: Here is the course outline of AI Foundations class:\\n- Artificial Intelligence\\n- Data Analysis with Python\\n- Machine Learning\\n- Deep Learning\\n- Natural Language Processing (Burmese Language)\\n- AI Ethics'),\n",
       " Document(metadata={'source': 'Simbolo Information - Sheet1.csv', 'row': 19}, page_content='Questions: What is the course outline of Math Fundamentals: Behind the Science of AI and Data Science?\\nAnswers: Here is the course outline of Math Fundamentals class:\\n- Statistics\\n- Probability\\n- Linear Algebra\\n- Calculus\\n- AI Model Structure'),\n",
       " Document(metadata={'source': 'Simbolo Information - Sheet1.csv', 'row': 20}, page_content='Questions: What is the course outline of UXUI?\\nAnswers: Here is the course outline of UXUI class:\\nUX\\n- Introduction to UX UI design\\n- Product development life cycle\\n- Design thinking process\\n- Designer roles and responsibilities \\n- UX design principle\\n- UX research methodologies\\n- User persona \\n- Information Architecture\\n\\nUI\\n- Get in touch with design tools\\n- Brain storming in figjam and miro\\n- UI design principles\\n- Wireframing in Figma \\n- Create components and interaction components\\n- Create local library for effective design\\n- Highfidelity Design (Mobile and Web)\\n- Iterating and Usability Testing\\n\\nFinal project and Design presentation included.'),\n",
       " Document(metadata={'source': 'Simbolo Information - Sheet1.csv', 'row': 21}, page_content='Questions: What is the course outline of Oracle Database Foundation?\\nAnswers: Here is the course outline of Oracle Database Foundation class:\\n- Introduction \\n- Database Management Fundamental\\n- Oracle Database Architecture\\n- Oracle Database Features\\n- Oracle Relational Database Structure\\n- Step by step Oracle database development\\n- Oracle SQL\\n- PL/SQL with Oracle SQL Developer\\n- Package\\n- Managing the Oracle Database Instance\\n- Reporting'),\n",
       " Document(metadata={'source': 'Simbolo Information - Sheet1.csv', 'row': 22}, page_content='Questions: What is the course outline of Applied Machine Learning?\\nAnswers: Here is the course outline of Applied Machine Learning class:\\n- Introduction to Machine Learning\\n- Pre-requisites and Introduction to Pandas\\n- Linear Regression\\n- Logistic Regression\\n- Decision Tree and Random Forest\\n- Naive Bayes and Support Vector Machine\\n- Regularization and Evaluation Metrics\\n- K-Means Algorithm and Dimensionality Reduction\\n- Introduction to Deep Learning'),\n",
       " Document(metadata={'source': 'Simbolo Information - Sheet1.csv', 'row': 23}, page_content='Questions: What is the course outline of Data Science Foundation?\\nAnswers: Here is the course outline of Data Science Foundation class:\\n- Introduction to Data Science\\n- Data Handling with Python\\n- Data Collection: Web Scraping\\n- Data Preprocessing\\n- Relational Data\\n- Exploratory Data Analysis and Visualization\\n- Data Science Techniques'),\n",
       " Document(metadata={'source': 'Simbolo Information - Sheet1.csv', 'row': 24}, page_content='Questions: What is the course outline of React JS?\\nAnswers: Here is the course outline for React JS:\\n- Introduction to React\\n- React Components and props\\n- React Hooks\\n- API Calling with Axios in React \\n- Custom Hook\\n- React router dom\\n- Useful and Popolar UI Libraries for React \\n- Form handling with react hook form\\n- Redux \\n- React-redux'),\n",
       " Document(metadata={'source': 'Simbolo Information - Sheet1.csv', 'row': 25}, page_content='Questions: What is the course outline of IT Project Management?\\nAnswers: Here is the course outline for IT Project Management:\\n- Project Management Introduction\\n- Project Management Life Cycle \\n- Project Integration Management\\n- Project Scope Management\\n- Project Time Management\\n- Project Cost Management\\n- Project Quality Management\\n- Project Resource Management\\n- Project Communication Management\\n- Project Risk Management'),\n",
       " Document(metadata={'source': 'Simbolo Information - Sheet1.csv', 'row': 26}, page_content='Questions: What is the course outline of IOS Development Fundamentals?\\nAnswers: Here is the course outline for IOS Development Fundamentals : \\n- Introduction to XCode\\n- User Interface Building using storyboards\\n- Different Types of Screen Navigations\\n- Using Protocols \\n- Build list view and grid views \\n- Using Swift Package Manager\\n- Build a network manager with Almofire\\n- Integrate Open Weather API\\n- Code refactoring and MVVM architecture'),\n",
       " Document(metadata={'source': 'Simbolo Information - Sheet1.csv', 'row': 27}, page_content='Questions: What is the course outline of Software Testing Fundamental?\\nAnswers: Here is the course outline for Software Testing Fundamental:\\n- Introduction to Software Testing\\n- Testing Methodologies \\n- Testing Documentation and Artifacts \\n- Test Planning\\n- Testing Techniques\\n- Functional and Non- Functional Testing Types\\n- User Acceptance Testing (UAT)\\n- Test Closure and Lessons Learned + Sneak Peek of Testing Management Tools \\n- API Testing ( Basic )\\n- Introduction to ISTQB: Your First Step Towards Certification\\n- Mini Test ( Multiple Choice) \\n- Testing Project'),\n",
       " Document(metadata={'source': 'Simbolo Information - Sheet1.csv', 'row': 28}, page_content='Questions: What is the course outline of Java Script?\\nAnswers: Here is the course outline for Java Script: \\n1. Introduction to JavaScript \\n-Course Overview and Setup\\n-JavaScript Basics\\n-Data Types and Variables\\n2. Control Structures and Functions\\n3. Objects and Arrays\\n4. Advanced JavaScript Concepts\\n-Asynchronous JavaScript\\n-Error Handling\\n\\n5. Working with the DOM\\n-Document Object Model (DOM)\\n-Event Handling\\n\\n6. Browser APIs and AJAX\\n\\n7. Modern JavaScript and ES6\\n-ES6 Features'),\n",
       " Document(metadata={'source': 'Simbolo Information - Sheet1.csv', 'row': 29}, page_content='Questions: What is the course outline for Quantum Computing?\\nAnswers: Here is the course outline for Quantum Computing:\\n- Linear Algebra, Statistics and Probability (1)\\n- Linear Algebra, Statistics and Probability (2)\\n- Introduction to Quantum Mechanics \\n- Introduction to Quantum Computing \\n- Quantum Algorithms (1)\\n- Quantum Algorithms (2)\\n- Practicality of Quantum Computing Devices'),\n",
       " Document(metadata={'source': 'Simbolo Information - Sheet1.csv', 'row': 30}, page_content='Questions: What is the course outline for Pathway to Success College Readiness?\\nAnswers: Here is the course outline for Pathway to Success College Readiness:\\n- Course Introduction \\n- Academic 4 Skills\\n- Critical Thinking and Problem Solving \\n- Data Acquisition and Analysis\\n- Statisicial Analysis and Visualization \\n- Research Method Basics \\n- Foundational IELTS\\n- Soft Skills \\n- College Application Process'),\n",
       " Document(metadata={'source': 'Simbolo Information - Sheet1.csv', 'row': 31}, page_content='Questions: Which platforms will be used for the class sessions, recordings, and communication?\\nAnswers: The class will be conducted via Zoom, and recordings will also be made available on Google Classroom.\\nFor class communication, we will be using the Discord platform.'),\n",
       " Document(metadata={'source': 'Simbolo Information - Sheet1.csv', 'row': 32}, page_content='Questions: How to register?\\nAnswers: You can register by filling out our form! Just tap the link below to get started on Messenger.')]"
      ]
     },
     "execution_count": 11,
     "metadata": {},
     "output_type": "execute_result"
    }
   ],
   "source": [
    "from langchain_community.document_loaders.csv_loader import CSVLoader\n",
    "\n",
    "data = CSVLoader(\"Simbolo Information - Sheet1.csv\")\n",
    "data = data.load()\n",
    "data\n"
   ]
  },
  {
   "cell_type": "code",
   "execution_count": 12,
   "metadata": {},
   "outputs": [
    {
     "name": "stdout",
     "output_type": "stream",
     "text": [
      "33\n"
     ]
    }
   ],
   "source": [
    "print(len(data))"
   ]
  },
  {
   "cell_type": "code",
   "execution_count": 20,
   "metadata": {},
   "outputs": [],
   "source": [
    "from langchain_huggingface import HuggingFaceEmbeddings\n",
    "from langchain.vectorstores import FAISS\n",
    "\n",
    "db = FAISS.from_documents(data, embedding=HuggingFaceEmbeddings(model_name=\"sentence-transformers/all-MiniLM-L6-v2\"))\n",
    "db.save_local('faiss_index')"
   ]
  },
  {
   "cell_type": "code",
   "execution_count": null,
   "metadata": {},
   "outputs": [],
   "source": []
  }
 ],
 "metadata": {
  "kernelspec": {
   "display_name": ".venv",
   "language": "python",
   "name": "python3"
  },
  "language_info": {
   "codemirror_mode": {
    "name": "ipython",
    "version": 3
   },
   "file_extension": ".py",
   "mimetype": "text/x-python",
   "name": "python",
   "nbconvert_exporter": "python",
   "pygments_lexer": "ipython3",
   "version": "3.10.12"
  }
 },
 "nbformat": 4,
 "nbformat_minor": 2
}
